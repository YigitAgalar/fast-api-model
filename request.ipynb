{
 "cells": [
  {
   "cell_type": "code",
   "execution_count": 1,
   "metadata": {},
   "outputs": [],
   "source": [
    "import requests"
   ]
  },
  {
   "cell_type": "code",
   "execution_count": 2,
   "metadata": {},
   "outputs": [],
   "source": [
    "url = \"http://127.0.0.1:8000/predict\""
   ]
  },
  {
   "cell_type": "code",
   "execution_count": 3,
   "metadata": {},
   "outputs": [],
   "source": [
    "data={\n",
    "    \"customerID\":1,\n",
    "    \"tenure\":10,\n",
    "    \"MonthlyCharges\":2.85,\n",
    "    \"TotalCharges\":1090.15,\n",
    "    \"SeniorCitizen\":0,\n",
    "    \"gender\":1,\n",
    "    \"Partner\":2,\n",
    "    \"Dependents\":0,\n",
    "    \"PhoneService\":0 ,        \n",
    "    \"MultipleLines\":0  ,      \n",
    "    \"InternetService\":1 ,     \n",
    "    \"OnlineSecurity\":1,       \n",
    "    \"OnlineBackup\":1,        \n",
    "    \"DeviceProtection\":1,   \n",
    "    \"TechSupport\":0,      \n",
    "    \"StreamingTV\":0 ,       \n",
    "    \"StreamingMovies\":2,   \n",
    "    \"Contract\":0,           \n",
    "    \"PaperlessBilling\":1,    \n",
    "    \"PaymentMethod\":3 \n",
    "    }"
   ]
  },
  {
   "cell_type": "code",
   "execution_count": 5,
   "metadata": {},
   "outputs": [],
   "source": [
    "response= requests.post(url,json=data)"
   ]
  },
  {
   "cell_type": "code",
   "execution_count": 6,
   "metadata": {},
   "outputs": [
    {
     "data": {
      "text/plain": [
       "{'Churn': '0.15279288777275368'}"
      ]
     },
     "execution_count": 6,
     "metadata": {},
     "output_type": "execute_result"
    }
   ],
   "source": [
    "response.json()"
   ]
  },
  {
   "cell_type": "code",
   "execution_count": 8,
   "metadata": {},
   "outputs": [
    {
     "data": {
      "text/plain": [
       "200"
      ]
     },
     "execution_count": 8,
     "metadata": {},
     "output_type": "execute_result"
    }
   ],
   "source": [
    "response.status_code"
   ]
  },
  {
   "cell_type": "code",
   "execution_count": null,
   "metadata": {},
   "outputs": [],
   "source": []
  }
 ],
 "metadata": {
  "kernelspec": {
   "display_name": "Python 3.9.12 ('base')",
   "language": "python",
   "name": "python3"
  },
  "language_info": {
   "codemirror_mode": {
    "name": "ipython",
    "version": 3
   },
   "file_extension": ".py",
   "mimetype": "text/x-python",
   "name": "python",
   "nbconvert_exporter": "python",
   "pygments_lexer": "ipython3",
   "version": "3.9.12"
  },
  "orig_nbformat": 4,
  "vscode": {
   "interpreter": {
    "hash": "ad2bdc8ecc057115af97d19610ffacc2b4e99fae6737bb82f5d7fb13d2f2c186"
   }
  }
 },
 "nbformat": 4,
 "nbformat_minor": 2
}
